{
 "cells": [
  {
   "cell_type": "code",
   "execution_count": 19,
   "id": "614e9d72",
   "metadata": {},
   "outputs": [],
   "source": [
    "import csv\n",
    "\n",
    "with open('SGProduct.csv', 'r') as f: #['Id', 'InventoryCode', 'BarCode', 'HSNCode', 'Name', 'AliasName', 'DepartmentName', 'CategoryName', 'SubCategoryName', 'BrandName', 'UnitName', 'UnitCost' 11, 'AverageCost', 'Price' 13, 'VendorName', 'DepartmentCode', 'CategoryCode', 'SubCategoryCode', 'ProductType', 'ParentInventoryCode', 'AttributeName1', 'AttributeValue1', 'AttributeName2', 'AttributeValue2', 'AttributeName3', 'AttributeValue3', 'Publisher', 'Author', 'Origin', 'OriginPrice', 'VendorDiscountPerc', 'VendorDiscountAmount', 'Tax', 'TaxPercentage', 'Type', 'TradeIn', 'QtyOnHand', 'Remarks', 'MRP', 'Height', 'Width', 'Length', 'Weight', 'WeightUOM', 'OnlineSales', 'ImagePath', 'BinLocation', 'MinimumSellingPrice', 'SpecialPrice', 'ExportToWeighScale', 'POSWholesalePrice']\n",
    "    reader = csv.reader(f)\n",
    "    SGdata = [row for row in reader]\n",
    "    \n",
    "with open('Invoice/26052024/ALL.csv', 'r') as f: #['Barcode', 'Product Name']\n",
    "    reader = csv.reader(f)\n",
    "    invoice39data = [row for row in reader]\n",
    "\n",
    "with open('MYProduct.csv', 'r') as f: #['Id', 'InventoryCode', 'BarCode', 'HSNCode', 'Name', 'AliasName', 'DepartmentName', 'CategoryName', 'SubCategoryName', 'BrandName', 'UnitName', 'UnitCost' 11, 'AverageCost', 'Price' 13, 'VendorName', 'DepartmentCode', 'CategoryCode', 'SubCategoryCode', 'ProductType', 'ParentInventoryCode', 'AttributeName1', 'AttributeValue1', 'AttributeName2', 'AttributeValue2', 'Publisher', 'Author', 'Origin', 'OriginPrice', 'VendorDiscountPerc', 'VendorDiscountAmount', 'Tax', 'TaxPercentage', 'Type', 'TradeIn', 'QtyOnHand', 'Remarks', 'MRP', 'Height', 'Width', 'Length', 'Weight', 'WeightUOM', 'OnlineSales', 'ImagePath', 'BinLocation', 'MinimumSellingPrice', 'SpecialPrice', 'ExportToWeighScale']\n",
    "    reader = csv.reader(f)\n",
    "    MYdata = [row for row in reader]\n",
    "    "
   ]
  },
  {
   "cell_type": "code",
   "execution_count": 20,
   "id": "c4583526",
   "metadata": {},
   "outputs": [],
   "source": [
    "def rateXchange_unit(n):\n",
    "    n = float(n)\n",
    "    n = n/3.53\n",
    "    n = n + (n*0.09)\n",
    "    n = n + 0.10\n",
    "    return str(round(n,6))\n",
    "\n",
    "def rateXchange_price(n):\n",
    "    n = float(n)\n",
    "    n = n/3.53\n",
    "    n = n + (n*0.09)\n",
    "    n = n + 0.10\n",
    "    n = n // 0.01 * 0.01\n",
    "    return str(round(n,1))\n",
    "\n",
    "def removal(string):\n",
    "    return string.replace(\" \", \"\")\n",
    "\n",
    "def listMaker(x):\n",
    "    import ast\n",
    "    x = ast.literal_eval(x)\n",
    "    x = [n.strip() for n in x]\n",
    "    return x"
   ]
  },
  {
   "cell_type": "code",
   "execution_count": 21,
   "id": "767e6801",
   "metadata": {},
   "outputs": [],
   "source": [
    "# Sorter\n",
    "\n",
    "notInSGdata = [] #In Invoice and not in SG Inventory\n",
    "data = [] #In Invoice and in SG Inventory with wrong prices\n",
    "categoryNameSGNotNonedata = [] #In Invoice and in SG Inventory with correct prices\n",
    "\n",
    "\n",
    "\n",
    "for i in invoice39data:\n",
    "    nameInInvoice = i[1]\n",
    "    \n",
    "    length_data = len(data)\n",
    "    length_categoryNameSGNotNonedata = len(categoryNameSGNotNonedata)\n",
    "    \n",
    "    for j in SGdata:\n",
    "        nameInSGdata = j[4]\n",
    "        categoryNameSG = j[7]\n",
    "        \n",
    "        if nameInInvoice == nameInSGdata and categoryNameSG == 'NONE':\n",
    "            data.append(j)\n",
    "        elif nameInInvoice == nameInSGdata and categoryNameSG !='NONE':\n",
    "            categoryNameSGNotNonedata.append(j)\n",
    "        else:\n",
    "            pass\n",
    "        \n",
    "    if length_data == len(data) and length_categoryNameSGNotNonedata == len(categoryNameSGNotNonedata):\n",
    "        notInSGdata.append(i)"
   ]
  },
  {
   "cell_type": "code",
   "execution_count": 22,
   "id": "848fc495",
   "metadata": {},
   "outputs": [],
   "source": [
    "# Price Changer - Data alr in SG Inventory\n",
    "\n",
    "for i in data:\n",
    "    for j in MYdata:\n",
    "        if removal(i[4]) == removal(j[4]): #sgName is the same as myName after removing all spaces\n",
    "            unitCost = rateXchange_unit(j[11])\n",
    "            price = rateXchange_price(j[13])\n",
    "            i[11] = unitCost\n",
    "            i[12] = '0'\n",
    "            i[13] = price\n"
   ]
  },
  {
   "cell_type": "code",
   "execution_count": 23,
   "id": "022f99fe",
   "metadata": {},
   "outputs": [],
   "source": [
    "# Template Data Maker - Data alr in SG Inventory\n",
    "\n",
    "dataForTemp = [['Id', 'InventoryCode', 'Barcode', 'Name', 'AliasName', 'DepartmentName', 'CategoryName', 'SubCategoryName', 'BrandName', 'UnitName', 'UnitCost', 'Price', 'VendorName', 'DepartmentCode', 'CategoryCode', 'SubCategoryCode', 'ProductType', 'ParentInventoryCode', 'AttributeName1', 'AttributeValue1', 'AttributeName2', 'AttributeValue2', 'AttributeName3', 'AttributeValue3', 'Publisher', 'Author', 'Origin', 'OriginPrice', 'VendorDiscountPerc', 'VendorDiscountAmount', 'Tax', 'Type', 'TradeIn', 'MRP', 'HSNCode', 'Length', 'Width', 'Height', 'Weight', 'Remarks', 'ImagePath', 'OnlineSales', 'WeightUOM', 'MinimumSellingPrice', 'SpecialPrice', 'POSWholesalePrice', 'BinLocation', 'ExportToWeighScale']]\n",
    "\n",
    "for i in data:\n",
    "    dataForTempList = []\n",
    "    \n",
    "    for j in range(48):\n",
    "        dataForTempList.append('')\n",
    "    \n",
    "    dataForTempList[0] = i[0] #ID\n",
    "    dataForTempList[1] = i[1] # Inventory Code\n",
    "    dataForTempList[2] = i[2] # Barcode\n",
    "    dataForTempList[3] = i[4] # Name\n",
    "    dataForTempList[5] = i[6] # Department Name\n",
    "    dataForTempList[6] = i[7] # Category Name\n",
    "    dataForTempList[9] = 'PCS' # Unit Name\n",
    "    dataForTempList[10] = i[11] # Unit Cost\n",
    "    dataForTempList[11] = i[13] # Price\n",
    "    dataForTempList[12] = i[14] # Vendor Name\n",
    "    dataForTempList[13] = i[15] # Department Code\n",
    "    \n",
    "    dataForTemp.append(dataForTempList)\n"
   ]
  },
  {
   "cell_type": "code",
   "execution_count": 24,
   "id": "4101d8fe",
   "metadata": {},
   "outputs": [],
   "source": [
    "with open('Template/AlrInSGInventory_ImportTemp.csv','w',newline='') as f:\n",
    "    writer=csv.writer(f)\n",
    "    for row in dataForTemp:\n",
    "        writer.writerow(row)"
   ]
  },
  {
   "cell_type": "code",
   "execution_count": null,
   "id": "fd97e4ae",
   "metadata": {},
   "outputs": [],
   "source": []
  }
 ],
 "metadata": {
  "kernelspec": {
   "display_name": "Python 3 (ipykernel)",
   "language": "python",
   "name": "python3"
  },
  "language_info": {
   "codemirror_mode": {
    "name": "ipython",
    "version": 3
   },
   "file_extension": ".py",
   "mimetype": "text/x-python",
   "name": "python",
   "nbconvert_exporter": "python",
   "pygments_lexer": "ipython3",
   "version": "3.10.0"
  }
 },
 "nbformat": 4,
 "nbformat_minor": 5
}
