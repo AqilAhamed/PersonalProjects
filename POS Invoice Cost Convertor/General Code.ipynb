{
 "cells": [
  {
   "cell_type": "code",
   "execution_count": 28,
   "id": "614e9d72",
   "metadata": {},
   "outputs": [],
   "source": [
    "import csv\n",
    "\n",
    "with open('Input/SGProduct.csv', 'r') as f: #['Id', 'InventoryCode', 'BarCode', 'HSNCode', 'Name', 'AliasName', 'DepartmentName', 'CategoryName', 'SubCategoryName', 'BrandName', 'UnitName', 'UnitCost' 11, 'AverageCost', 'Price' 13, 'VendorName', 'DepartmentCode', 'CategoryCode', 'SubCategoryCode', 'ProductType', 'ParentInventoryCode', 'AttributeName1', 'AttributeValue1', 'AttributeName2', 'AttributeValue2', 'AttributeName3', 'AttributeValue3', 'Publisher', 'Author', 'Origin', 'OriginPrice', 'VendorDiscountPerc', 'VendorDiscountAmount', 'Tax', 'TaxPercentage', 'Type', 'TradeIn', 'QtyOnHand', 'Remarks', 'MRP', 'Height', 'Width', 'Length', 'Weight', 'WeightUOM', 'OnlineSales', 'ImagePath', 'BinLocation', 'MinimumSellingPrice', 'SpecialPrice', 'ExportToWeighScale', 'POSWholesalePrice']\n",
    "    reader = csv.reader(f)\n",
    "    SGdata = [row for row in reader]\n",
    "    \n",
    "with open('Input/39Invoice.csv', 'r') as f: #['Barcode', 'Product Name']\n",
    "    reader = csv.reader(f)\n",
    "    invoice39data = [row for row in reader]\n",
    "\n",
    "with open('Input/MYProduct.csv', 'r') as f: #['Id', 'InventoryCode', 'BarCode', 'HSNCode', 'Name', 'AliasName', 'DepartmentName', 'CategoryName', 'SubCategoryName', 'BrandName', 'UnitName', 'UnitCost' 11, 'AverageCost', 'Price' 13, 'VendorName', 'DepartmentCode', 'CategoryCode', 'SubCategoryCode', 'ProductType', 'ParentInventoryCode', 'AttributeName1', 'AttributeValue1', 'AttributeName2', 'AttributeValue2', 'Publisher', 'Author', 'Origin', 'OriginPrice', 'VendorDiscountPerc', 'VendorDiscountAmount', 'Tax', 'TaxPercentage', 'Type', 'TradeIn', 'QtyOnHand', 'Remarks', 'MRP', 'Height', 'Width', 'Length', 'Weight', 'WeightUOM', 'OnlineSales', 'ImagePath', 'BinLocation', 'MinimumSellingPrice', 'SpecialPrice', 'ExportToWeighScale']\n",
    "    reader = csv.reader(f)\n",
    "    MYdata = [row for row in reader]\n",
    "    \n",
    "with open('Input/ImportProductTemplate.csv', 'r') as f: #Template downloaded file\n",
    "    reader = csv.reader(f)\n",
    "    temp = [row for row in reader][0] #48 placeholders\n",
    "    "
   ]
  },
  {
   "cell_type": "code",
   "execution_count": 29,
   "id": "c4583526",
   "metadata": {},
   "outputs": [],
   "source": [
    "def rateXchange_unit(n):\n",
    "    n = float(n)\n",
    "    n = n/3.53\n",
    "    n = n + (n*0.09)\n",
    "    n = n + 0.10\n",
    "    return str(round(n,6))\n",
    "\n",
    "def rateXchange_price(n):\n",
    "    n = float(n)\n",
    "    n = n/3.53\n",
    "    n = n + (n*0.09)\n",
    "    n = n + 0.10\n",
    "    n = n // 0.01 * 0.01\n",
    "    return str(round(n,1))\n",
    "\n",
    "def removal(string):\n",
    "    return string.replace(\" \", \"\")\n",
    "\n",
    "def listMaker(x):\n",
    "    import ast\n",
    "    x = ast.literal_eval(x)\n",
    "    x = [n.strip() for n in x]\n",
    "    return x\n"
   ]
  },
  {
   "cell_type": "code",
   "execution_count": 30,
   "id": "767e6801",
   "metadata": {},
   "outputs": [],
   "source": [
    "# Sorter\n",
    "\n",
    "notInSGdata = [] #In Invoice and not in SG Inventory\n",
    "data = [] #In Invoice and in SG Inventory with wrong prices\n",
    "categoryNameSGNotNonedata = [] #In Invoice and in SG Inventory with correct prices\n",
    "\n",
    "\n",
    "\n",
    "for i in invoice39data:\n",
    "    nameInInvoice = i[1]\n",
    "    \n",
    "    length_data = len(data)\n",
    "    length_categoryNameSGNotNonedata = len(categoryNameSGNotNonedata)\n",
    "    \n",
    "    for j in SGdata:\n",
    "        nameInSGdata = j[4]\n",
    "        categoryNameSG = j[7]\n",
    "        \n",
    "        if nameInInvoice == nameInSGdata and categoryNameSG == 'NONE':\n",
    "            data.append(j)\n",
    "        elif nameInInvoice == nameInSGdata and categoryNameSG !='NONE':\n",
    "            categoryNameSGNotNonedata.append(j)\n",
    "        else:\n",
    "            pass\n",
    "        \n",
    "    if length_data == len(data) and length_categoryNameSGNotNonedata == len(categoryNameSGNotNonedata):\n",
    "        notInSGdata.append(i)\n",
    "        "
   ]
  },
  {
   "cell_type": "code",
   "execution_count": 134,
   "id": "e752788d",
   "metadata": {},
   "outputs": [],
   "source": [
    "# Prototype Purchase Invoice Maker\n",
    "\n",
    "purchaseInvoiceList = [['Inventory Code', 'Name']]\n",
    "for i in invoice39data:\n",
    "    for j in data:\n",
    "        \n",
    "        if removal(i[1]) == removal(j[4]):\n",
    "            purchaseInvoiceList.append([j[1], j[4]])\n",
    "            \n",
    "    for k in categoryNameSGNotNonedata:\n",
    "        if removal(i[1]) == removal(k[4]):\n",
    "            purchaseInvoiceList.append([k[1], k[4]])\n",
    "            \n",
    "    for x in notInSGdata:\n",
    "        if removal(i[1]) == removal(x[1]):\n",
    "            purchaseInvoiceList.append(['', x[1]])\n",
    "        \n",
    "        \n",
    "with open('Input/test.csv','w',newline='') as f:\n",
    "    writer=csv.writer(f)\n",
    "    for row in purchaseInvoiceList:\n",
    "        writer.writerow(row)\n"
   ]
  },
  {
   "cell_type": "code",
   "execution_count": 31,
   "id": "848fc495",
   "metadata": {},
   "outputs": [
    {
     "name": "stdout",
     "output_type": "stream",
     "text": [
      "187\n"
     ]
    }
   ],
   "source": [
    "# Price Changer - Data alr in SG Inventory\n",
    "\n",
    "for i in data:\n",
    "    for j in MYdata:\n",
    "        if removal(i[4]) == removal(j[4]): #sgName is the same as myName after removing all spaces\n",
    "            unitCost = rateXchange_unit(j[11])\n",
    "            price = rateXchange_price(j[13])\n",
    "            i[11] = unitCost\n",
    "            i[12] = '0'\n",
    "            i[13] = price\n",
    "            \n",
    "print(len(data))\n"
   ]
  },
  {
   "cell_type": "code",
   "execution_count": 32,
   "id": "c6755317",
   "metadata": {},
   "outputs": [
    {
     "data": {
      "text/plain": [
       "[['7622210816887', 'CADBURY ROAST ALMOND 90G', '1.804476', '2.7'],\n",
       " ['7622210400284', 'CADBURY DAIRY MILK BLACK FOREST 160G', '2.431303', '3.6'],\n",
       " ['8901233026497', 'C.DAIRY MILK LICKABLES 20G', '1.199263', '1.8'],\n",
       " ['9556182104049', 'CADBURY FRUIT & NUT 37G', '0.859603', '1.2'],\n",
       " ['9556182104162', 'CADBURY BLACK FOREST 37G', '0.859603', '1.2'],\n",
       " ['9556182104018', 'CADBURY ROAST ALMOND 37G', '0.859603', '1.2'],\n",
       " ['9556182104001', 'CADBURY DAIRY MILK 37G', '0.859603', '1.2'],\n",
       " ['9556182017264', 'DAIRY MILK CHOCLATE 15G', '0.374816', '0.5'],\n",
       " ['9556277401497', 'NONA KICAP LEMAK MANIS 325ML', '1.779773', '2.4'],\n",
       " ['9556277401497', 'NONA KICAP LEMAK MANIS 325ML', '1.779773', '2.4'],\n",
       " ['6901236387979', 'VINTA TISU KITCHEN TOWEL 80SHEET', '3.527479', '5.8']]"
      ]
     },
     "execution_count": 32,
     "metadata": {},
     "output_type": "execute_result"
    }
   ],
   "source": [
    "# Price Changer - Data in Invoice but not in SG Inventory\n",
    "\n",
    "for i in notInSGdata:\n",
    "    for j in MYdata:\n",
    "        if removal(i[1]) == removal(j[4]): #invoiceName is the same as myName after removing all spaces\n",
    "            unitCost = rateXchange_unit(j[11])\n",
    "            price = rateXchange_price(j[13])\n",
    "            \n",
    "            i.append(unitCost)\n",
    "            i.append(price)\n",
    "            \n",
    "notInSGdata"
   ]
  },
  {
   "cell_type": "code",
   "execution_count": 160,
   "id": "022f99fe",
   "metadata": {},
   "outputs": [],
   "source": [
    "# Template Data Maker - Data alr in SG Inventory\n",
    "\n",
    "dataForTemp = [['Id', 'InventoryCode', 'Barcode', 'Name', 'AliasName', 'DepartmentName', 'CategoryName', 'SubCategoryName', 'BrandName', 'UnitName', 'UnitCost', 'Price', 'VendorName', 'DepartmentCode', 'CategoryCode', 'SubCategoryCode', 'ProductType', 'ParentInventoryCode', 'AttributeName1', 'AttributeValue1', 'AttributeName2', 'AttributeValue2', 'AttributeName3', 'AttributeValue3', 'Publisher', 'Author', 'Origin', 'OriginPrice', 'VendorDiscountPerc', 'VendorDiscountAmount', 'Tax', 'Type', 'TradeIn', 'MRP', 'HSNCode', 'Length', 'Width', 'Height', 'Weight', 'Remarks', 'ImagePath', 'OnlineSales', 'WeightUOM', 'MinimumSellingPrice', 'SpecialPrice', 'POSWholesalePrice', 'BinLocation', 'ExportToWeighScale']]\n",
    "\n",
    "for i in data:\n",
    "    dataForTempList = []\n",
    "    \n",
    "    for j in range(48):\n",
    "        dataForTempList.append('')\n",
    "    \n",
    "    dataForTempList[1] = i[1] # Inventory Code\n",
    "    dataForTempList[2] = i[2] # Barcode\n",
    "    dataForTempList[3] = i[4] # Name\n",
    "    dataForTempList[5] = i[6] # Department Name\n",
    "    dataForTempList[6] = i[7] # Category Name\n",
    "    dataForTempList[9] = 'PCS' # Unit Name\n",
    "    dataForTempList[10] = i[11] # Unit Cost\n",
    "    dataForTempList[11] = i[13] # Price\n",
    "    dataForTempList[12] = i[14] # Vendor Name\n",
    "    dataForTempList[13] = i[15] # Department Code\n",
    "    \n",
    "    dataForTemp.append(dataForTempList)\n"
   ]
  },
  {
   "cell_type": "code",
   "execution_count": 33,
   "id": "79720112",
   "metadata": {},
   "outputs": [],
   "source": [
    "# Template Data Maker - Data in Invoice but not in SG Inventory\n",
    "\n",
    "dataForTemp = [['Id', 'InventoryCode', 'Barcode', 'Name', 'AliasName', 'DepartmentName', 'CategoryName', 'SubCategoryName', 'BrandName', 'UnitName', 'UnitCost', 'Price', 'VendorName', 'DepartmentCode', 'CategoryCode', 'SubCategoryCode', 'ProductType', 'ParentInventoryCode', 'AttributeName1', 'AttributeValue1', 'AttributeName2', 'AttributeValue2', 'AttributeName3', 'AttributeValue3', 'Publisher', 'Author', 'Origin', 'OriginPrice', 'VendorDiscountPerc', 'VendorDiscountAmount', 'Tax', 'Type', 'TradeIn', 'MRP', 'HSNCode', 'Length', 'Width', 'Height', 'Weight', 'Remarks', 'ImagePath', 'OnlineSales', 'WeightUOM', 'MinimumSellingPrice', 'SpecialPrice', 'POSWholesalePrice', 'BinLocation', 'ExportToWeighScale']]\n",
    "\n",
    "for i in notInSGdata:\n",
    "    dataForTempList = []\n",
    "    \n",
    "    for j in range(48):\n",
    "        dataForTempList.append('')\n",
    "    \n",
    "    dataForTempList[2] = i[0] # Barcode\n",
    "    dataForTempList[3] = i[1] # Name\n",
    "    dataForTempList[5] = \"MYR GOODS\" # Department Name\n",
    "    dataForTempList[6] = \"NONE\" # Category Name\n",
    "    dataForTempList[9] = 'PCS' # Unit Name\n",
    "    dataForTempList[10] = i[2] # Unit Cost\n",
    "    dataForTempList[11] = i[3] # Price\n",
    "    dataForTempList[12] = \"AL KHWAJA MAJU ENTERPRISE\" # Vendor Name\n",
    "    \n",
    "    dataForTemp.append(dataForTempList)"
   ]
  },
  {
   "cell_type": "code",
   "execution_count": 161,
   "id": "4101d8fe",
   "metadata": {},
   "outputs": [],
   "source": [
    "with open('Input/ImportProductTemplate_alrInSGInventory.csv','w',newline='') as f:\n",
    "    writer=csv.writer(f)\n",
    "    for row in dataForTemp:\n",
    "        writer.writerow(row)"
   ]
  },
  {
   "cell_type": "code",
   "execution_count": 34,
   "id": "bf3e262b",
   "metadata": {},
   "outputs": [],
   "source": [
    "with open('Input/ImportProductTemplate_notInSGInventory.csv','w',newline='') as f:\n",
    "    writer=csv.writer(f)\n",
    "    for row in dataForTemp:\n",
    "        writer.writerow(row)"
   ]
  },
  {
   "cell_type": "code",
   "execution_count": null,
   "id": "9d8495f7",
   "metadata": {},
   "outputs": [],
   "source": [
    "# In Invoice and In SGData with wrong prices\n",
    "# In Invoice and In SGData with right prices\n",
    "# In Invoice and not in SGData"
   ]
  },
  {
   "cell_type": "code",
   "execution_count": null,
   "id": "42e5f0e1",
   "metadata": {},
   "outputs": [],
   "source": []
  }
 ],
 "metadata": {
  "kernelspec": {
   "display_name": "Python 3 (ipykernel)",
   "language": "python",
   "name": "python3"
  },
  "language_info": {
   "codemirror_mode": {
    "name": "ipython",
    "version": 3
   },
   "file_extension": ".py",
   "mimetype": "text/x-python",
   "name": "python",
   "nbconvert_exporter": "python",
   "pygments_lexer": "ipython3",
   "version": "3.10.0"
  }
 },
 "nbformat": 4,
 "nbformat_minor": 5
}
