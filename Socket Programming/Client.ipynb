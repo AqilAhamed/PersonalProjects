{
 "cells": [
  {
   "cell_type": "code",
   "execution_count": 1,
   "id": "c538a29a",
   "metadata": {},
   "outputs": [
    {
     "name": "stdout",
     "output_type": "stream",
     "text": [
      "b'hello world'\n"
     ]
    }
   ],
   "source": [
    "from socket import socket\n",
    "\n",
    "c = socket()\n",
    "\n",
    "c.connect(('localhost',9999))\n",
    "\n",
    "print(c.recv(1024))"
   ]
  },
  {
   "cell_type": "code",
   "execution_count": 4,
   "id": "88ddded0",
   "metadata": {},
   "outputs": [
    {
     "ename": "ConnectionRefusedError",
     "evalue": "[Errno 61] Connection refused",
     "output_type": "error",
     "traceback": [
      "\u001b[0;31m---------------------------------------------------------------------------\u001b[0m",
      "\u001b[0;31mConnectionRefusedError\u001b[0m                    Traceback (most recent call last)",
      "\u001b[0;32m/var/folders/fr/6lqn2_6x1d53ljrc1x1p4_9c0000gp/T/ipykernel_638/3372250677.py\u001b[0m in \u001b[0;36m<module>\u001b[0;34m\u001b[0m\n\u001b[1;32m      3\u001b[0m \u001b[0mc\u001b[0m \u001b[0;34m=\u001b[0m \u001b[0msocket\u001b[0m\u001b[0;34m(\u001b[0m\u001b[0;34m)\u001b[0m\u001b[0;34m\u001b[0m\u001b[0;34m\u001b[0m\u001b[0m\n\u001b[1;32m      4\u001b[0m \u001b[0;34m\u001b[0m\u001b[0m\n\u001b[0;32m----> 5\u001b[0;31m \u001b[0mc\u001b[0m\u001b[0;34m.\u001b[0m\u001b[0mconnect\u001b[0m\u001b[0;34m(\u001b[0m\u001b[0;34m(\u001b[0m\u001b[0;34m'127.0.0.1'\u001b[0m\u001b[0;34m,\u001b[0m\u001b[0;36m12345\u001b[0m\u001b[0;34m)\u001b[0m\u001b[0;34m)\u001b[0m\u001b[0;34m\u001b[0m\u001b[0;34m\u001b[0m\u001b[0m\n\u001b[0m\u001b[1;32m      6\u001b[0m \u001b[0;34m\u001b[0m\u001b[0m\n\u001b[1;32m      7\u001b[0m \u001b[0mprint\u001b[0m\u001b[0;34m(\u001b[0m\u001b[0mtype\u001b[0m\u001b[0;34m(\u001b[0m\u001b[0meval\u001b[0m\u001b[0;34m(\u001b[0m\u001b[0mc\u001b[0m\u001b[0;34m.\u001b[0m\u001b[0mrecv\u001b[0m\u001b[0;34m(\u001b[0m\u001b[0;36m4096\u001b[0m\u001b[0;34m)\u001b[0m\u001b[0;34m.\u001b[0m\u001b[0mdecode\u001b[0m\u001b[0;34m(\u001b[0m\u001b[0;34m)\u001b[0m\u001b[0;34m)\u001b[0m\u001b[0;34m)\u001b[0m\u001b[0;34m)\u001b[0m\u001b[0;34m\u001b[0m\u001b[0;34m\u001b[0m\u001b[0m\n",
      "\u001b[0;31mConnectionRefusedError\u001b[0m: [Errno 61] Connection refused"
     ]
    }
   ],
   "source": [
    "from socket import socket\n",
    "\n",
    "c = socket()\n",
    "\n",
    "c.connect(('127.0.0.1',12345))\n",
    "\n",
    "print(type(eval(c.recv(4096).decode())))"
   ]
  },
  {
   "cell_type": "code",
   "execution_count": 1,
   "id": "51cc87cc",
   "metadata": {},
   "outputs": [],
   "source": [
    "#Generate Key\n",
    "def generateKey(p,m):\n",
    "    if len(p) < len(m):\n",
    "        diff = len(m)-len(p)\n",
    "        for i in range(diff):\n",
    "            p = p+p[i]\n",
    "        \n",
    "    return p\n",
    "\n",
    "\n",
    "#Encrypt\n",
    "def encrypt(p,m):\n",
    "            \n",
    "    p = generateKey(p,m)\n",
    "    \n",
    "    pList = []\n",
    "    mList = []\n",
    "    \n",
    "    for i in range(len(m)):\n",
    "        pList.append(ord(p[i]))\n",
    "        mList.append(ord(m[i]))\n",
    "    \n",
    "    addedList = []\n",
    "    for i in range(len(mList)):\n",
    "        addedList.append(mList[i] + pList[i])\n",
    "    \n",
    "    encryptedMessage = ''\n",
    "    for i in addedList:\n",
    "        encryptedMessage += chr(i)\n",
    "        \n",
    "    return encryptedMessage\n",
    "\n",
    "\n",
    "#Decrypt\n",
    "def decrypt(p,m):\n",
    "    p = generateKey(p,m)\n",
    "    \n",
    "    pList = []\n",
    "    mList = []\n",
    "    \n",
    "    for i in range(len(m)):\n",
    "        pList.append(ord(p[i]))\n",
    "        mList.append(ord(m[i]))\n",
    "        \n",
    "    subtractedList = []\n",
    "    for i in range(len(mList)):\n",
    "        subtractedList.append(mList[i]-pList[i])\n",
    "        \n",
    "    decryptedMessage = ''\n",
    "    for i in subtractedList:\n",
    "        decryptedMessage += chr(i)\n",
    "        \n",
    "    return decryptedMessage\n"
   ]
  },
  {
   "cell_type": "code",
   "execution_count": 2,
   "id": "a84daa43",
   "metadata": {
    "scrolled": true
   },
   "outputs": [],
   "source": [
    "#client's data = \"[password, team name, group's size]\""
   ]
  },
  {
   "cell_type": "code",
   "execution_count": 15,
   "id": "e71ec3ee",
   "metadata": {},
   "outputs": [
    {
     "name": "stdout",
     "output_type": "stream",
     "text": [
      "Please type the password: aqil\n",
      "What is your Team name: tea\n",
      "Group size: 3\n",
      "Establishing connection...\n",
      "Connection established!\n",
      "Data sent!\n",
      "Waiting for the server to confirm your request...\n",
      "Pickup confirmed! Please wait for pickup.\n",
      "Connection disconnected.\n"
     ]
    }
   ],
   "source": [
    "password = input(\"Please type the password: \")\n",
    "team_name = input(\"What is your Team name: \")\n",
    "group_size = int(input(\"Group size: \"))\n",
    "\n",
    "client_data = [password, team_name, group_size]\n",
    "client_data = str(client_data)\n",
    "\n",
    "from socket import socket\n",
    "\n",
    "s = socket()\n",
    "\n",
    "print(\"Establishing connection...\")\n",
    "port = 12345\n",
    "s.connect(('localhost', port))\n",
    "print(\"Connection established!\")\n",
    "\n",
    "client_data = encrypt(password, client_data)\n",
    "s.send(client_data.encode())\n",
    "print(\"Data sent!\")\n",
    "\n",
    "print(\"Waiting for the server to confirm your request...\")\n",
    "data = s.recv(4096).decode()\n",
    "data = decrypt(password, data)\n",
    "\n",
    "if data == \"Accepted\":\n",
    "    print(\"Pickup confirmed! Please wait for pickup.\")\n",
    "    s.close()\n",
    "    print(\"Connection disconnected.\")\n",
    "    \n",
    "elif data == \"Rejected\":\n",
    "    print(\"Pickup rejected!\")\n",
    "    print(\"Wrong password or request rejected.\")\n",
    "    print(\"Please try again.\")\n",
    "    s.close()\n",
    "    print(\"Connection disconnected.\")\n",
    "    \n",
    "else:\n",
    "    print(\"Pickup cancelled.\")\n",
    "    print(\"Wrong password or request rejected.\")\n",
    "    print(\"Please try again.\")\n",
    "    s.close()\n",
    "    print(\"Connection disconnected.\")\n"
   ]
  }
 ],
 "metadata": {
  "kernelspec": {
   "display_name": "Python 3 (ipykernel)",
   "language": "python",
   "name": "python3"
  },
  "language_info": {
   "codemirror_mode": {
    "name": "ipython",
    "version": 3
   },
   "file_extension": ".py",
   "mimetype": "text/x-python",
   "name": "python",
   "nbconvert_exporter": "python",
   "pygments_lexer": "ipython3",
   "version": "3.10.0"
  }
 },
 "nbformat": 4,
 "nbformat_minor": 5
}
